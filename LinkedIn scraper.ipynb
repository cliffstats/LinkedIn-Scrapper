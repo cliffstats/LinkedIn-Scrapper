{
 "cells": [
  {
   "cell_type": "markdown",
   "metadata": {},
   "source": [
    "# LINKEDIN SCRAPER"
   ]
  },
  {
   "cell_type": "markdown",
   "metadata": {},
   "source": [
    "## Import all dependecies"
   ]
  },
  {
   "cell_type": "code",
   "execution_count": 37,
   "metadata": {},
   "outputs": [],
   "source": [
    "from selenium import webdriver\n",
    "from bs4 import BeautifulSoup\n",
    "import getpass\n",
    "import requests\n",
    "from selenium.webdriver.common.keys import Keys\n",
    "import pandas as pd"
   ]
  },
  {
   "cell_type": "markdown",
   "metadata": {},
   "source": [
    "## set up input system for user_id and password"
   ]
  },
  {
   "cell_type": "code",
   "execution_count": 2,
   "metadata": {},
   "outputs": [
    {
     "name": "stdout",
     "output_type": "stream",
     "text": [
      "Enter email address or number with country code: odhiambogigs@gmail.com\n",
      "Enter your password:········\n"
     ]
    }
   ],
   "source": [
    "userid = str(input(\"Enter email address or number with country code: \"))\n",
    "password = getpass.getpass('Enter your password:')"
   ]
  },
  {
   "cell_type": "markdown",
   "metadata": {},
   "source": [
    "## initialize a chrome window"
   ]
  },
  {
   "cell_type": "code",
   "execution_count": 48,
   "metadata": {},
   "outputs": [],
   "source": [
    "chrome_path = './chromedriver'\n",
    "driver = webdriver.Chrome(chrome_path)"
   ]
  },
  {
   "cell_type": "markdown",
   "metadata": {},
   "source": [
    "## Log into Linkedin Site"
   ]
  },
  {
   "cell_type": "code",
   "execution_count": 49,
   "metadata": {},
   "outputs": [],
   "source": [
    "driver.get(\"https://www.linkedin.com/login?trk=guest_homepage-basic_nav-header-signin\")\n",
    "#This will open up a new instance of your browser and redirect to www.linkedin.com\n",
    "driver.implicitly_wait(6)\n",
    "driver.find_element_by_xpath('//*[@id=\"username\"]').send_keys(userid)\n",
    "driver.find_element_by_xpath('//*[@id=\"password\"]').send_keys(password)\n",
    "driver.find_element_by_xpath('//*[@id=\"app__container\"]/main/div/form/div[3]/button').click()"
   ]
  },
  {
   "cell_type": "markdown",
   "metadata": {},
   "source": [
    "## Check Your Connections"
   ]
  },
  {
   "cell_type": "code",
   "execution_count": 55,
   "metadata": {},
   "outputs": [],
   "source": [
    "driver.get('https://www.linkedin.com/mynetwork/invite-connect/connections/')"
   ]
  },
  {
   "cell_type": "code",
   "execution_count": 58,
   "metadata": {},
   "outputs": [],
   "source": [
    "connections=driver.find_element_by_css_selector('#ember46 > ul').text\n",
    "connections=connections.split('Member’s name')\n",
    "connections=[conn.split('\\n') for conn in connections]"
   ]
  },
  {
   "cell_type": "code",
   "execution_count": 59,
   "metadata": {},
   "outputs": [
    {
     "name": "stdout",
     "output_type": "stream",
     "text": [
      "['paul mwangi', 'Adrian Matingi', 'Damaris Kabute', 'POLO EDWIN', 'Fassil Tadesse']\n",
      "['Student at thika technical training institute', 'Graduate Research \"Entwickülüng Bildüng Fordeit\"(German foundation,Trier University) and former Intern at Real IPM Kenya', \"Bachelor's degree at Laikipia University\", 'CEE at SAFARICOM LIMITED.', 'Independent Business Owner at Institute of Pagume 6']\n"
     ]
    }
   ],
   "source": [
    "connections=connections[1:]\n",
    "connection_names = [conn[1] for conn in connections]\n",
    "print(connection_names[:5])\n",
    "connection_occupation = [conn[3] for conn in connections]\n",
    "print(connection_occupation[:5])"
   ]
  },
  {
   "cell_type": "markdown",
   "metadata": {},
   "source": [
    "## Create a dataframe of your connections and save as excel file"
   ]
  },
  {
   "cell_type": "code",
   "execution_count": 88,
   "metadata": {},
   "outputs": [],
   "source": [
    "len(connection_names) == len(connection_occupation)\n",
    "dict_Lnkd={'connection_names':connection_names, 'connection_occupation':connection_occupation}\n",
    "data=pd.DataFrame(dict_Lnkd)\n",
    "data.head(10)\n",
    "data.to_excel('connections.xls')"
   ]
  },
  {
   "cell_type": "markdown",
   "metadata": {},
   "source": [
    "## Explore a connection's network"
   ]
  },
  {
   "cell_type": "code",
   "execution_count": 68,
   "metadata": {},
   "outputs": [],
   "source": [
    "#Enter any of your connection profile Link\n",
    "#driver.get('https://www.linkedin.com/in/pmmutiti/') \n",
    "driver.find_element_by_xpath('//*[@id=\"ember54\"]').click()\n",
    "driver.implicitly_wait(6)\n",
    "driver.get('https://www.linkedin.com/search/results/people/?facetConnectionOf=%5B%22ACoAAApYysEBbKrW7OwwKtA4JSAEwubQB26fB6M'+\n",
    "           '%22%5D&facetNetwork=%5B%22F%22%2C%22S%22%5D&origin=MEMBER_PROFILE_CANNED_SEARCH&lipi=urn%3Ali%3Apage%3Ad_'+\n",
    "           'flagship3_profile_view_base%3BZgr%2FjM6PRJyjCfVRUXcHdg%3D%3D&licu=urn%3Ali%3Acontrol%3Ad_flagship3_profile'+\n",
    "           '_view_base-topcard_view_all_connections')"
   ]
  },
  {
   "cell_type": "markdown",
   "metadata": {},
   "source": [
    "## Get the User's total number of connections"
   ]
  },
  {
   "cell_type": "code",
   "execution_count": 86,
   "metadata": {},
   "outputs": [
    {
     "data": {
      "text/plain": [
       "995"
      ]
     },
     "execution_count": 86,
     "metadata": {},
     "output_type": "execute_result"
    }
   ],
   "source": [
    "users_conns=driver.find_element_by_xpath('//*[@id=\"ember57\"]/div/h3').text\n",
    "users_conns=int(users_conns.split()[1])\n",
    "users_conns"
   ]
  }
 ],
 "metadata": {
  "kernelspec": {
   "display_name": "Python 3",
   "language": "python",
   "name": "python3"
  },
  "language_info": {
   "codemirror_mode": {
    "name": "ipython",
    "version": 3
   },
   "file_extension": ".py",
   "mimetype": "text/x-python",
   "name": "python",
   "nbconvert_exporter": "python",
   "pygments_lexer": "ipython3",
   "version": "3.6.8"
  }
 },
 "nbformat": 4,
 "nbformat_minor": 2
}
